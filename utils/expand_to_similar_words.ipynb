{
 "cells": [
  {
   "cell_type": "code",
   "execution_count": 1,
   "id": "607661d1",
   "metadata": {},
   "outputs": [],
   "source": [
    "import numpy\n",
    "import spacy\n",
    "from collections import defaultdict"
   ]
  },
  {
   "cell_type": "code",
   "execution_count": 3,
   "id": "b2e24969",
   "metadata": {},
   "outputs": [],
   "source": [
    "seed_words_en = [\"angry\", \"sad\", \"scared\", \"happy\"]"
   ]
  },
  {
   "cell_type": "code",
   "execution_count": 4,
   "id": "91dc2b1c",
   "metadata": {},
   "outputs": [],
   "source": [
    "category_words_ja = [\"怒り\",\"悲しみ\",\"恐れ\",\"喜び\"]\n",
    "seed_words_ja = [\"怒っている\", \"悲しい\",\"怖がった\",\"嬉しい\"]"
   ]
  },
  {
   "cell_type": "code",
   "execution_count": 8,
   "id": "be7a8bf9",
   "metadata": {},
   "outputs": [],
   "source": [
    "# states\n",
    "seed_words_de = [\"verärgert\", \"traurig\", \"erschrocken\", \"glücklich\"]\n",
    "seed_words_de_exp_angry = [\"wütend\", \"zornig\"]\n",
    "seed_words_de_exp_sad = [\"unglücklich\", \"trist\", \"unzufrieden\"]\n",
    "seed_words_de_exp_scared = [\"ängstlich\", \"bange\", \"besorgt\"]\n",
    "seed_words_de_exp_happy = [\"zufrieden\", \"froh\", \"freudig\", \"fröhlich\", \"vergnügt\", \"heiter\"]\n",
    "\n",
    "all_exp = [seed_words_de_exp_angry, seed_words_de_exp_sad, seed_words_de_exp_scared, seed_words_de_exp_happy]"
   ]
  },
  {
   "cell_type": "code",
   "execution_count": 60,
   "id": "a41769ae",
   "metadata": {},
   "outputs": [],
   "source": [
    "# situations\n",
    "seed_words_de = [\"irritierend\", \"deprimierend\", \"schrecklich\", \"wundervoll\"]\n",
    "seed_words_de_exp_angry = [\"ärgerlich\", \"lästig\", \"belästigend\"]\n",
    "seed_words_de_exp_sad = [\"bedrückend\", \"trübselig\"]\n",
    "seed_words_de_exp_scared = [\"fürchterlich\"]\n",
    "seed_words_de_exp_happy = [\"wunderbar\", \"herrlich\", \"wunderschön\", \"großartig\"]\n",
    "all_exp = [seed_words_de_exp_angry, seed_words_de_exp_sad, seed_words_de_exp_scared, seed_words_de_exp_happy]"
   ]
  },
  {
   "cell_type": "code",
   "execution_count": 4,
   "id": "3bd02b4c",
   "metadata": {},
   "outputs": [],
   "source": [
    "nlp_de = spacy.load(\"de_core_news_lg\")"
   ]
  },
  {
   "cell_type": "code",
   "execution_count": 5,
   "id": "29d2ded3",
   "metadata": {},
   "outputs": [],
   "source": [
    "nlp_ja = spacy.load(\"ja_core_news_lg\")"
   ]
  },
  {
   "cell_type": "code",
   "execution_count": 6,
   "id": "48fe028f",
   "metadata": {},
   "outputs": [],
   "source": [
    "nlp = nlp_ja"
   ]
  },
  {
   "cell_type": "code",
   "execution_count": 7,
   "id": "6c0e5ba0",
   "metadata": {},
   "outputs": [],
   "source": [
    "other_dict = defaultdict(list)"
   ]
  },
  {
   "cell_type": "code",
   "execution_count": null,
   "id": "0810aaff",
   "metadata": {},
   "outputs": [],
   "source": []
  },
  {
   "cell_type": "code",
   "execution_count": null,
   "id": "1e337a6d",
   "metadata": {},
   "outputs": [],
   "source": []
  },
  {
   "cell_type": "code",
   "execution_count": 9,
   "id": "dac8a22b",
   "metadata": {},
   "outputs": [],
   "source": [
    "#first word will be canonical\n",
    "# for en, other, exp in zip(seed_words_en, seed_words_de, all_exp):\n",
    "#     other_dict[en].append(other)\n",
    "#     other_dict[en].extend(exp)\n",
    "\n",
    "for en, other in zip(seed_words_en, seed_words_ja):\n",
    "    other_dict[en].append(other)\n",
    "    "
   ]
  },
  {
   "cell_type": "code",
   "execution_count": 10,
   "id": "c0151fd4",
   "metadata": {},
   "outputs": [],
   "source": [
    "other_exp_dict = {key: set() for key in other_dict.keys()}"
   ]
  },
  {
   "cell_type": "code",
   "execution_count": 16,
   "id": "6393cae3",
   "metadata": {},
   "outputs": [
    {
     "ename": "KeyError",
     "evalue": "15489702694667416966",
     "output_type": "error",
     "traceback": [
      "\u001b[0;31m---------------------------------------------------------------------------\u001b[0m",
      "\u001b[0;31mKeyError\u001b[0m                                  Traceback (most recent call last)",
      "\u001b[0;32m<ipython-input-16-c89217476c83>\u001b[0m in \u001b[0;36m<module>\u001b[0;34m\u001b[0m\n\u001b[1;32m      2\u001b[0m     \u001b[0mwords\u001b[0m \u001b[0;34m=\u001b[0m \u001b[0mother_dict\u001b[0m\u001b[0;34m[\u001b[0m\u001b[0mkey\u001b[0m\u001b[0;34m]\u001b[0m\u001b[0;34m\u001b[0m\u001b[0;34m\u001b[0m\u001b[0m\n\u001b[1;32m      3\u001b[0m     \u001b[0;32mfor\u001b[0m \u001b[0mw\u001b[0m \u001b[0;32min\u001b[0m \u001b[0mwords\u001b[0m\u001b[0;34m:\u001b[0m\u001b[0;34m\u001b[0m\u001b[0;34m\u001b[0m\u001b[0m\n\u001b[0;32m----> 4\u001b[0;31m         \u001b[0mprint\u001b[0m\u001b[0;34m(\u001b[0m\u001b[0mnlp\u001b[0m\u001b[0;34m.\u001b[0m\u001b[0mvocab\u001b[0m\u001b[0;34m.\u001b[0m\u001b[0mvectors\u001b[0m\u001b[0;34m[\u001b[0m\u001b[0mnlp\u001b[0m\u001b[0;34m.\u001b[0m\u001b[0mvocab\u001b[0m\u001b[0;34m.\u001b[0m\u001b[0mstrings\u001b[0m\u001b[0;34m[\u001b[0m\u001b[0mw\u001b[0m\u001b[0;34m]\u001b[0m\u001b[0;34m]\u001b[0m\u001b[0;34m)\u001b[0m\u001b[0;34m\u001b[0m\u001b[0;34m\u001b[0m\u001b[0m\n\u001b[0m\u001b[1;32m      5\u001b[0m         \u001b[0mmost_sim_idx\u001b[0m \u001b[0;34m=\u001b[0m \u001b[0mnlp\u001b[0m\u001b[0;34m.\u001b[0m\u001b[0mvocab\u001b[0m\u001b[0;34m.\u001b[0m\u001b[0mvectors\u001b[0m\u001b[0;34m.\u001b[0m\u001b[0mmost_similar\u001b[0m\u001b[0;34m(\u001b[0m\u001b[0mnumpy\u001b[0m\u001b[0;34m.\u001b[0m\u001b[0masarray\u001b[0m\u001b[0;34m(\u001b[0m\u001b[0;34m[\u001b[0m\u001b[0mnlp\u001b[0m\u001b[0;34m.\u001b[0m\u001b[0mvocab\u001b[0m\u001b[0;34m.\u001b[0m\u001b[0mvectors\u001b[0m\u001b[0;34m[\u001b[0m\u001b[0mnlp\u001b[0m\u001b[0;34m.\u001b[0m\u001b[0mvocab\u001b[0m\u001b[0;34m.\u001b[0m\u001b[0mstrings\u001b[0m\u001b[0;34m[\u001b[0m\u001b[0mw\u001b[0m\u001b[0;34m]\u001b[0m\u001b[0;34m]\u001b[0m\u001b[0;34m]\u001b[0m\u001b[0;34m)\u001b[0m\u001b[0;34m,\u001b[0m \u001b[0mn\u001b[0m\u001b[0;34m=\u001b[0m\u001b[0;36m5\u001b[0m\u001b[0;34m)\u001b[0m\u001b[0;34m\u001b[0m\u001b[0;34m\u001b[0m\u001b[0m\n\u001b[1;32m      6\u001b[0m         \u001b[0mmost_sim_str\u001b[0m \u001b[0;34m=\u001b[0m \u001b[0mset\u001b[0m\u001b[0;34m(\u001b[0m\u001b[0;34m[\u001b[0m\u001b[0mnlp\u001b[0m\u001b[0;34m.\u001b[0m\u001b[0mvocab\u001b[0m\u001b[0;34m.\u001b[0m\u001b[0mstrings\u001b[0m\u001b[0;34m[\u001b[0m\u001b[0mi\u001b[0m\u001b[0;34m]\u001b[0m\u001b[0;34m.\u001b[0m\u001b[0mlower\u001b[0m\u001b[0;34m(\u001b[0m\u001b[0;34m)\u001b[0m \u001b[0;32mfor\u001b[0m \u001b[0mi\u001b[0m \u001b[0;32min\u001b[0m \u001b[0mmost_sim_idx\u001b[0m\u001b[0;34m[\u001b[0m\u001b[0;36m0\u001b[0m\u001b[0;34m]\u001b[0m\u001b[0;34m[\u001b[0m\u001b[0;36m0\u001b[0m\u001b[0;34m]\u001b[0m\u001b[0;34m]\u001b[0m\u001b[0;34m)\u001b[0m\u001b[0;34m\u001b[0m\u001b[0;34m\u001b[0m\u001b[0m\n",
      "\u001b[0;32m~/miniconda3/envs/multi_sent/lib/python3.9/site-packages/spacy/vectors.pyx\u001b[0m in \u001b[0;36mspacy.vectors.Vectors.__getitem__\u001b[0;34m()\u001b[0m\n",
      "\u001b[0;31mKeyError\u001b[0m: 15489702694667416966"
     ]
    }
   ],
   "source": [
    "for key in other_dict:\n",
    "    words = other_dict[key]\n",
    "    for w in words:\n",
    "        print(nlp.vocab.vectors[nlp.vocab.strings[w]])\n",
    "        most_sim_idx = nlp.vocab.vectors.most_similar(numpy.asarray([nlp.vocab.vectors[nlp.vocab.strings[w]]]), n=5)\n",
    "        most_sim_str = set([nlp.vocab.strings[i].lower() for i in most_sim_idx[0][0]])\n",
    "        other_exp_dict[key] |= most_sim_str\n",
    "    \n",
    "    "
   ]
  },
  {
   "cell_type": "code",
   "execution_count": 20,
   "id": "ffe97098",
   "metadata": {},
   "outputs": [
    {
     "name": "stdout",
     "output_type": "stream",
     "text": [
      "<spacy.vectors.Vectors object at 0x7fe1876ff180>\n"
     ]
    }
   ],
   "source": [
    "print(nlp.vocab.vectors)"
   ]
  },
  {
   "cell_type": "code",
   "execution_count": 65,
   "id": "fa450888",
   "metadata": {},
   "outputs": [
    {
     "name": "stdout",
     "output_type": "stream",
     "text": [
      "angry: 66\n",
      "{'schrecklich', 'nervig', 'missbilligend', 'provozierend', 'schockierend', 'frappierend', 'belästigen', 'erschreckend', 'anzüglich', 'unbequem', 'irritiert', 'verwirrend', 'rufschädigend', 'belästigt', 'misslich', 'irritieren', 'verstörend', 'widerlich', 'belästigte', 'ärgerlicherweise', 'lästige', 'belästigend', 'deprimierend', 'irritierend', 'unangenehm', 'unerfreulich', 'belästigende', 'unerwünscht', 'missverständlich', 'bedauerlich', 'dämlich', 'lästiger', 'nervend', 'nerven', 'störend', 'frustrierend', 'beleidigend', 'belästige', 'peinlich', 'stressig', 'unglücklich', 'bedenklich', 'ärgerlich', 'fürchterlich', 'unnötig', 'belästigung', 'nervige', 'irritierende', 'lästig', 'unangemessen', 'nervtötend', 'schädigend', 'herabwürdigend', 'belästigenden', 'unschön', 'belästigten', 'kleinlich', 'beunruhigend', 'polarisierend', 'lächerlich', 'unwarscheinlich', 'irritierenden', 'befremdlich', 'mühselig', 'unliebsam', 'verzeihlich'}\n",
      "sad: 50\n",
      "{'traurig', 'schockierend', 'missmutig', 'erschreckend', 'hypnotisierend', 'rührselig', 'zitternd', 'grauenvoll', 'unruhig', 'trübsinnig', 'armselig', 'trübe', 'aufwühlend', 'beklemmend', 'verstörend', 'gespenstisch', 'bedrückenden', 'schwermütig', 'deprimierend', 'irritierend', 'beängstigend', 'bewegend', 'deprimierenden', 'elend', 'erdrückend', 'deprimiert', 'frustrierend', 'traumatisierend', 'trostlos', 'bedrückende', 'trübselig', 'bedrückend', 'bedrückender', 'dramatisch', 'deprimierende', 'glückselig', 'deprimierender', 'demotivierend', 'deprimieren', 'freudlos', 'schaudernd', 'bedrohlich', 'bedrückt', 'beunruhigend', 'schmuddelig', 'furchtsam', 'redselig', 'mißmutig', 'garstig', 'erschütternd'}\n",
      "scared: 25\n",
      "{'schrecklich', 'scheußlich', 'peinlich', 'gräßlich', 'wiederlich', 'unheimlich', 'bitterlich', 'jämmerlich', 'schmählich', 'ärgerlich', 'fürchterlich', 'ungeheuerlich', 'grauslich', 'widerlich', 'furchtbar', 'abscheulich', 'weinerlich', 'unsäglich', 'unerträglich', 'grässlich', 'erbärmlich', 'entsetzlich', 'scheusslich', 'zeimlich', 'furchterregend'}\n",
      "happy: 45\n",
      "{'wunderschöne', 'großartige', 'wunderschönem', 'wundervollem', 'grossartig', 'umwerfend', 'wunderbarem', 'fantastisch', 'wundersch', 'begeisternd', 'wunderhübsch', 'beeindruckend', 'köstlich', 'fabelhaft', 'wundervoll', 'wunderschöner', 'schön', 'wunderwunderschön', 'wundervollen', 'bezaubernd', 'wunderbar', 'verzaubernd', 'großartig', 'zauberhaft', 'phantastisch', 'wunderschn', 'wunderschönen', 'wunderschönes', 'toll', 'wundervoller', 'traumhaft', 'wundervolle', 'geschmackvoll', 'wunderschoen', 'wunderschön', 'grandios', 'herrlich', 'wunderlich', 'superschön', 'genial', 'lieblich', 'perfekt', 'himmlisch', 'unglaublich', 'sommerlich'}\n"
     ]
    }
   ],
   "source": [
    "for key in other_exp_dict:\n",
    "    print(f\"{key}: {len(other_exp_dict[key])}\")\n",
    "    print(other_exp_dict[key])"
   ]
  },
  {
   "cell_type": "code",
   "execution_count": 66,
   "id": "73b639e7",
   "metadata": {},
   "outputs": [
    {
     "name": "stdout",
     "output_type": "stream",
     "text": [
      "defaultdict(<class 'list'>, {'angry': ['irritierend', 'ärgerlich', 'lästig', 'belästigend'], 'sad': ['deprimierend', 'bedrückend', 'trübselig'], 'scared': ['schrecklich', 'fürchterlich'], 'happy': ['wundervoll', 'wunderbar', 'herrlich', 'wunderschön', 'großartig']})\n"
     ]
    }
   ],
   "source": [
    "print(other_dict)"
   ]
  },
  {
   "cell_type": "code",
   "execution_count": null,
   "id": "7500797e",
   "metadata": {},
   "outputs": [],
   "source": []
  }
 ],
 "metadata": {
  "kernelspec": {
   "display_name": "multi_sent",
   "language": "python",
   "name": "mulit_sent"
  },
  "language_info": {
   "codemirror_mode": {
    "name": "ipython",
    "version": 3
   },
   "file_extension": ".py",
   "mimetype": "text/x-python",
   "name": "python",
   "nbconvert_exporter": "python",
   "pygments_lexer": "ipython3",
   "version": "3.9.6"
  }
 },
 "nbformat": 4,
 "nbformat_minor": 5
}
