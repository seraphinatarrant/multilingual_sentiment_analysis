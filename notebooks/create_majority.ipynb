{
 "cells": [
  {
   "cell_type": "code",
   "execution_count": 1,
   "id": "5a466dbd",
   "metadata": {},
   "outputs": [],
   "source": [
    "###\n",
    "import pandas as pd"
   ]
  },
  {
   "cell_type": "code",
   "execution_count": 2,
   "id": "4e3e09aa",
   "metadata": {},
   "outputs": [],
   "source": [
    "langs = [\"zh\", \"en\", \"de\", \"ja\", \"es\"]\n",
    "seeds = [0, 5, 26, 42, 63]\n",
    "pattern = \"/home/ec2-user/SageMaker/efs/sgt/results/{}/"
   ]
  },
  {
   "cell_type": "code",
   "execution_count": null,
   "id": "67f841b6",
   "metadata": {},
   "outputs": [],
   "source": [
    "for lang in langs:\n",
    "    # get votes for all seeds\n",
    "    all_seed_dfs = [pd.read_csv(filepath.format(seed)) for seed in seeds]\n",
    "    ##TO DO NEXT IS DO ALL THE VOTING BUT THROW OUT DISAGREEMENTS AND SEE IF IT CHANGES"
   ]
  }
 ],
 "metadata": {
  "kernelspec": {
   "display_name": "multi_sent",
   "language": "python",
   "name": "multi_sent"
  },
  "language_info": {
   "codemirror_mode": {
    "name": "ipython",
    "version": 3
   },
   "file_extension": ".py",
   "mimetype": "text/x-python",
   "name": "python",
   "nbconvert_exporter": "python",
   "pygments_lexer": "ipython3",
   "version": "3.9.6"
  }
 },
 "nbformat": 4,
 "nbformat_minor": 5
}
