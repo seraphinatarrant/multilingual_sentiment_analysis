{
 "cells": [
  {
   "cell_type": "code",
   "execution_count": 1,
   "id": "8dd3edf4",
   "metadata": {},
   "outputs": [],
   "source": [
    "import pandas as pd\n",
    "import seaborn as sns\n",
    "from collections import Counter\n",
    "import numpy as np\n",
    "import matplotlib.pyplot as plt\n",
    "import re"
   ]
  },
  {
   "cell_type": "code",
   "execution_count": null,
   "id": "7f306945",
   "metadata": {},
   "outputs": [],
   "source": [
    "\n"
   ]
  },
  {
   "cell_type": "code",
   "execution_count": 2,
   "id": "0d4208ca",
   "metadata": {},
   "outputs": [],
   "source": []
  },
  {
   "cell_type": "code",
   "execution_count": 54,
   "id": "b66580d9",
   "metadata": {},
   "outputs": [],
   "source": [
    "lang = \"ja\"\n",
    "ties = Counter()\n",
    "one_winner, no_winner = 0, 0\n",
    "total_disagreements = 0\n",
    "logfile = \"/Users/sggoldfa/Downloads/process_output_{}.log\".format(lang)"
   ]
  },
  {
   "cell_type": "code",
   "execution_count": 55,
   "id": "f5c50055",
   "metadata": {},
   "outputs": [
    {
     "name": "stdout",
     "output_type": "stream",
     "text": [
      "One winner 176 (6.337774576881527%), No Winner 1 (0.036010082823190494%), Ties 2600 (93.62621534029529%)\n",
      "[('3+5', 578), ('1+3', 509), ('1+2', 407), ('2+3', 373), ('4+5', 349), ('3+4', 277), ('1+5', 102), ('2+5', 4), ('1+4', 1)]\n"
     ]
    }
   ],
   "source": [
    "with open(logfile, \"r\") as fin:\n",
    "    doc = fin.readlines()\n",
    "    \n",
    "for line in doc:\n",
    "    if line.startswith(\"disagreement\"):\n",
    "        total_disagreements += 1\n",
    "        if line.startswith(\"disagreement, only one vote has more\"):\n",
    "            one_winner += 1\n",
    "        elif line.startswith(\"disagreement, two labels are tied\"):\n",
    "            prefix, labels = line.split(\":\")\n",
    "            label_1, label_2 = labels.split(\",\")\n",
    "            labels = sorted([int(label_1.strip()), int(label_2.strip())])\n",
    "            labels = \"+\".join([str(i) for i in labels])\n",
    "            ties[labels]+= 1\n",
    "        else: # \"disagreement, all different votes,\n",
    "            no_winner += 1\n",
    "\n",
    "\n",
    "total_ties = sum(ties.values())\n",
    "print(\"One winner {} ({}%), No Winner {} ({}%), Ties {} ({}%)\".format(one_winner, one_winner/total_disagreements*100,\n",
    "                                                                      no_winner, no_winner/total_disagreements*100,\n",
    "                                                                      total_ties, total_ties/total_disagreements*100))\n",
    "print(ties.most_common())\n",
    "    \n",
    "    "
   ]
  },
  {
   "cell_type": "code",
   "execution_count": 53,
   "id": "53b14ad6",
   "metadata": {},
   "outputs": [],
   "source": [
    "plt.clf()\n",
    "labels, values = zip(*ties.most_common())\n",
    "\n",
    "indexes = np.arange(len(labels))\n",
    "width = 0.8\n",
    "\n",
    "plt.bar(indexes, values, width, align=\"edge\")\n",
    "plt.xticks(indexes + width * 0.5, labels, rotation=90)\n",
    "#plt.show()\n",
    "plt.savefig(\"{}_dist.png\".format(lang))"
   ]
  },
  {
   "cell_type": "code",
   "execution_count": null,
   "id": "84705e1b",
   "metadata": {},
   "outputs": [],
   "source": []
  }
 ],
 "metadata": {
  "kernelspec": {
   "display_name": "multi_sent",
   "language": "python",
   "name": "mulit_sent"
  },
  "language_info": {
   "codemirror_mode": {
    "name": "ipython",
    "version": 3
   },
   "file_extension": ".py",
   "mimetype": "text/x-python",
   "name": "python",
   "nbconvert_exporter": "python",
   "pygments_lexer": "ipython3",
   "version": "3.9.6"
  }
 },
 "nbformat": 4,
 "nbformat_minor": 5
}
