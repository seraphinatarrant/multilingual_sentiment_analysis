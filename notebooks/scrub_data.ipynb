{
 "cells": [
  {
   "cell_type": "code",
   "execution_count": 75,
   "id": "0d721f4e",
   "metadata": {},
   "outputs": [],
   "source": [
    "import re\n",
    "from tqdm import tqdm\n",
    "from datasets import load_dataset"
   ]
  },
  {
   "cell_type": "code",
   "execution_count": 73,
   "id": "47c8d7b9",
   "metadata": {},
   "outputs": [],
   "source": [
    "def process(text, replacement=\"_\"):\n",
    "\n",
    "    regExp = r\"\\b(?:[Hh]e|[Ss]he|[Hh]er|[Hh]is|[Hh]im|[Hh]ers|[Hh]imself|[Hh]erself|[Mm][Rr]|[Mm][Rr][sS]|[Mm][Ss]|[Ww]ife|[Hh]usband|[Dd]augher|[Ss]on|[Ww]oman|[Mm]an|[Gg]irl|[Bb]oy|[Ss]ister|[Bb]rother|[Mm]other|[Ff]ather|[Mm]om|[Dd]ad|[Aa]unt|[Uu]ncle|[Mm]a|[Pp]a|[Gg]irlfriend|[Bb]oyfriend)\\b\"\n",
    "    for section in [\"review_body\", \"review_title\"]:\n",
    "        s, n = re.subn(regExp, replacement, text[section])\n",
    "        text[section] = s\n",
    "#         if n > 0:\n",
    "#             print(n)\n",
    "    return text, n"
   ]
  },
  {
   "cell_type": "code",
   "execution_count": 8,
   "id": "33ea50f6",
   "metadata": {},
   "outputs": [
    {
     "name": "stdout",
     "output_type": "stream",
     "text": [
      "Downloading and preparing dataset amazon_reviews_multi/en (download: 82.11 MiB, generated: 58.69 MiB, post-processed: Unknown size, total: 140.79 MiB) to /Users/sggoldfa/.cache/huggingface/datasets/amazon_reviews_multi/en/1.0.0/724e94f4b0c6c405ce7e476a6c5ef4f87db30799ad49f765094cf9770e0f7609...\n"
     ]
    },
    {
     "data": {
      "application/vnd.jupyter.widget-view+json": {
       "model_id": "",
       "version_major": 2,
       "version_minor": 0
      },
      "text/plain": [
       "0 examples [00:00, ? examples/s]"
      ]
     },
     "metadata": {},
     "output_type": "display_data"
    },
    {
     "data": {
      "application/vnd.jupyter.widget-view+json": {
       "model_id": "",
       "version_major": 2,
       "version_minor": 0
      },
      "text/plain": [
       "0 examples [00:00, ? examples/s]"
      ]
     },
     "metadata": {},
     "output_type": "display_data"
    },
    {
     "data": {
      "application/vnd.jupyter.widget-view+json": {
       "model_id": "",
       "version_major": 2,
       "version_minor": 0
      },
      "text/plain": [
       "0 examples [00:00, ? examples/s]"
      ]
     },
     "metadata": {},
     "output_type": "display_data"
    },
    {
     "name": "stdout",
     "output_type": "stream",
     "text": [
      "Dataset amazon_reviews_multi downloaded and prepared to /Users/sggoldfa/.cache/huggingface/datasets/amazon_reviews_multi/en/1.0.0/724e94f4b0c6c405ce7e476a6c5ef4f87db30799ad49f765094cf9770e0f7609. Subsequent calls will reuse this data.\n"
     ]
    }
   ],
   "source": [
    "dataset = load_dataset(\n",
    "   'amazon_reviews_multi', 'en')"
   ]
  },
  {
   "cell_type": "code",
   "execution_count": 85,
   "id": "52005d5d",
   "metadata": {},
   "outputs": [
    {
     "data": {
      "text/plain": [
       "dict_keys(['train', 'validation', 'test'])"
      ]
     },
     "execution_count": 85,
     "metadata": {},
     "output_type": "execute_result"
    }
   ],
   "source": [
    "dataset.keys()\n",
    "dataset['test'][0][\"review_body\"]"
   ]
  },
  {
   "cell_type": "code",
   "execution_count": 87,
   "id": "98b5dbbe",
   "metadata": {},
   "outputs": [],
   "source": [
    "num_replacements, replaced_text = [], 0"
   ]
  },
  {
   "cell_type": "code",
   "execution_count": 88,
   "id": "b21ca57c",
   "metadata": {},
   "outputs": [
    {
     "name": "stderr",
     "output_type": "stream",
     "text": [
      "100%|██████████| 5000/5000 [00:00<00:00, 10302.82it/s]\n"
     ]
    }
   ],
   "source": [
    "for entry in tqdm(dataset[\"validation\"]):\n",
    "    text, n = process(entry)\n",
    "    if n > 0:\n",
    "        num_replacements.append(n)\n",
    "        replaced_text += 1"
   ]
  },
  {
   "cell_type": "code",
   "execution_count": 90,
   "id": "783cb24e",
   "metadata": {},
   "outputs": [
    {
     "name": "stdout",
     "output_type": "stream",
     "text": [
      "32\n",
      "2\n"
     ]
    }
   ],
   "source": [
    "print(replaced_text)\n",
    "print(max(num_replacements))"
   ]
  },
  {
   "cell_type": "code",
   "execution_count": 54,
   "id": "0db5f3fb",
   "metadata": {},
   "outputs": [
    {
     "data": {
      "text/plain": [
       "['These are AWFUL. They are see through, the fabric feels like tablecloth, and they fit like children’s clothing. Customer service did seem to be nice though, but I regret missing my return date for these. I wouldn’t even donate them because the quality is so poor.',\n",
       " 'I bought 4 and NONE of them worked. Yes I used new batteries!',\n",
       " \"On first use it didn't heat up and now it doesn't work at all\",\n",
       " \"You want an HONEST answer? I just returned from UPS where I returned the FARCE of an earring set to Amazon. It did NOT look like what I saw on Amazon. Only a baby would be able to wear the size of the earring. They were SO small. the size of a pin head I at first thought Amazon had forgotten to enclose them in the bag! I didn't bother to take them out of the bag and you can have them back. Will NEVER order another thing from your company. A disgrace. Honest enough for you? Grandma\",\n",
       " \"The glue works fine but the container is impossible to work with. The cap doesn't come off without plyers and then won't go back on without a violent abrupt force involving both hands and a solid object (desk drawer). This happened even though I was careful to not gum up the lid or tapering snout.\",\n",
       " 'I was over the moon when I got this. I love sunflowers and it looked exactly like they advertised, unfortunately I wore this piercing for one weekend. By Sunday night the sunflower had came off. I will not be purchasing from this company again. Very disappointed.',\n",
       " \"Gotta say, not impressed with the quality. I mean, I can't say I expected it to be overwhelmingly amazing with the cost being where it's at. But, certainly I thought it would last longer than a few days. Had the phone in my gym bag. Slid out from the side and barely tapped the wall. On the aluminum side. Not even on the glass. And low and behold, instantaneous crack. Oddly enough, just on the back. Not a splinter at all on the front. Not sure if the back is intentionally more susceptible to damage or just my luck. Either way, I have to give this product a thumbs down. Wish it held up better. It really is a nice design. I am a fan of how the product looks and the concept. No issue there. Just not durable at all.\",\n",
       " \"I would give this zero stars if I could. This is 6.3 you ounces of low grade chocolate for $60. My 9 year old daughter was so disappointed. It didn't even have a different piece for each day. It was mostly flat square wrapped milk chocolate with no design at all!!! Very very poor quality and expensive!\",\n",
       " 'Two of the glasses were broken when I opened the package. Could you please be careful for packaging glass items.',\n",
       " 'Doesn’t even work . Did nothing for me :(',\n",
       " 'Really, really thin.',\n",
       " 'Never received item. Given a refund.',\n",
       " 'Terrible!!!! I couldnt even attach it to the screen',\n",
       " 'My package arrived with nothing in it?! My cord that I use for my phone is broken and I was really depending on this replacement. I will give a better rating when I have something to rate!!',\n",
       " 'I mean the case looks cool. I don’t know anything about functionality but they sent me a iPhone 8 Plus case. The title says 6 plus, I ordered a 6 plus and there was no option on selecting another iPhone size beside 6 and 6 plus so I’m very disappointed in the service',\n",
       " 'I did not receive this item.',\n",
       " \"I REALLY WANTED TO LOVE THIS BUT I DON'T. THE SMELL IS NOT STRONG AT ALL NO MATTER HOW MUCH OF IT ADD.\",\n",
       " 'Belt loops were not fastened upon opening. They were not stitched.',\n",
       " 'These headphones were great in the beginning. Easy to charge, stayed in my ears, and had great sound quality. Unfortunately, they crapped out about a year after I purchased them. They will charge but no longer turn on.',\n",
       " 'Ran entirely too small',\n",
       " \"Had them for like a month, during which time I used them maybe once for 5 minutes. Otherwise kept in the included case. They broke right away. The nosepiece - which is made of a paper-like material glued to a tiny strip of clear plastic - snapped the second time I tried to wear them. Since it's the only thing that holds them up, the glasses essentially became trash after that. Don't waste your time no matter how deep the discount.\",\n",
       " 'I bought Halo before, but this one does not look the same! It seems to have lots of fat (a white greasy substance) in it!',\n",
       " 'First of all the package was shoved into my mail box and was basically crushed when I pulled it out. In addition there are deep marks and scrapes that show the wallet was used or pre-owned before getting to me..',\n",
       " 'The battery covers screw stripped out the first day on both cars I purchased for Christmas.',\n",
       " \"Shame you can't give it 0 stars I ordered this and the package says shipped but I did not receive the package contacted the seller 2 times and still no answer after two weeks very disappointed.\",\n",
       " 'It didn’t work at all. All the wax got stuck at the top and would never flow.',\n",
       " 'The clear backing lacks the stickiness to keep the letters adhered until you’re finished weeding! It’s so frustrating to have to keep up with a bunch of letters and pieces that have curled and fell off the paper! It requires additional work to make sure that they’re aligned properly and being applied on the right side, which was an issue for me several times! I purchased 3 packs of this and while it’s okay for larger designs, it sucks for lettering or anything intricate 😏 Possibly it’s old and dried out, but in any event, I will not be buying from this vendor again and suggest that you don’t either!',\n",
       " 'Sorry but these are a waste of money! The balls constantly fall off after a certain amount of time and the paint/coloring chips off! It’s gross, but I had a big piece of the color chip off while I was wearing one, which meant extra cleaning later that evening. POOR QUALITY, don’t waste your money on these ones!! :(',\n",
       " 'NEVER RECEIVE THIS PRODUCT EVEN AFTER CONTACTING THE SELLER MORE THAN ONCE',\n",
       " \"I never bought this product so why the hell isn't showing up in my order history\",\n",
       " 'Very disappointed in the quality, patterns and size I will donate or give away. Very unhappy.',\n",
       " 'Guess i picked the wrong flavor. Sunflower seed is disgusting. I’ll be tossing them after eating a few out one bag.',\n",
       " \"It wasn't the size in the picture never again going to buy this product\",\n",
       " \"I've been using this product with my laundry for a while now and I like it, but I had to return it because it wasn't packaged right and everything was damaged.\",\n",
       " 'Added so much to the projects! Works well.',\n",
       " \"Purchased in June 2019 and no longer works two months later???? The button (for arms to release or hold the phone) is locked and therefore mechanism doesn't work....... We love the features of this make & model, but going to look elsewhere for something more reliable.\",\n",
       " 'It does not work and it smells really bad',\n",
       " 'The item u sent me was not what I ordered no stars',\n",
       " 'The dragon was missing paint and there was glue or something all over the dragon.',\n",
       " 'Wrong item shipped. Ask for connectors and got a box of fuses!!! What a waste of my time waiting for this to arrive.',\n",
       " 'I had it less than a week and the c type tip that connects to my S9 got burnt.',\n",
       " 'I was very disappointed in this item. It is very soft and not chewy. It falls apart in your hand. My dog eats them but I prefer a more chewy treat for my dog.',\n",
       " 'I am very annoyed because it came a day late and it didn’t come with the ferro rod and striker which is the main reason why I ordered it',\n",
       " 'Waste of money!! Don’t buy this product. just helping community. I trusted reviews about that but all wrong',\n",
       " 'The wires did not last long at all. The piece that connects to the phone comes off, you have to have the phone sitting in a certain position for the phone to charge.',\n",
       " 'I ordered a screen for an iPhone 8 Plus, but recevied product that was for a different phone. A significantly smaller phone.',\n",
       " 'I was so excited about this and wanted to like it so much. My dog (who is not a strong chewer AT ALL) destroyed it in under 5 minutes :/ $11 down the drain for NOTHING. Great concept, extremely poor execution unfortunately.',\n",
       " 'WE ORDERED THIS, HUNG THE LIGHT AND ONLY 4 OUT OF THE 5 LIGHTS WORKED.',\n",
       " 'I got 2 pars in different colors. When started using them realized that its too late to return. Not comfortable, give blisters in the open area where the toes are each step getting worst. ended-up with 5 blisters in the different area of my feet. . The sole is coming apart, I had to glue it. I feel ripped off.',\n",
       " 'This lasted 2 weeks after using it for 1 days. So disappointing!',\n",
       " 'I have been using this for several years and recently bought several only to find out that they all have perfume in them now.',\n",
       " 'Flawed disc, stopped about 5-10 minutes before the end.of the movie. Not up to Amazone standards.',\n",
       " 'One of the leather string fell apart in the first week 😂😂 overall looks awesome',\n",
       " 'You only get one cat toy....as is deceiving, they show three toys.',\n",
       " 'Dulled severely after a single use, caused the drill to buck and nearly took my _’s finger off. Tried it again several more times, and it caught and kicked every time. You get what you pay for.',\n",
       " 'Wrong product was sent',\n",
       " \"I wouldn't know because it says that my item was delivered, but it is not here.\",\n",
       " 'have not used it yet',\n",
       " 'wast of money fake did one launch broke a immediately.',\n",
       " 'Please be very careful.... This wax gets extremely hot. It blistered my face in 4 different spots..',\n",
       " 'Only worked for 15 min',\n",
       " 'They sent me 4 of the same flag it’s not like the picture shows',\n",
       " 'I received 99cent wet and wild brushes instead of the limited edition real techniques blush and contour brushes I ordered.',\n",
       " \"Extremely disappointed. The video from this camera is great. The audio is a whole other story!!! No matter what I do I get tons of static. Ive used several different external mics and the audio always ends up being unusable. I really wish I would've researched this camera some more before buying it. _ what a waste of money.\",\n",
       " 'They are all smashed. I have pictures. They look melted and all smashed.',\n",
       " \"The child hat is ridiculously small. It was not even close to the right size for my 3 year old _. I checked the size, and it wouldn't have even fit _ as a newborn. I liked the adult hat but it is not sold separately. The seller was rude and unhelpful when I contacted them directly through Amazon. The faux fur pom was either already torn or tore when I was trying on the hat. See the attached photograph. The pom came aprt, exposing the inner fluff.\",\n",
       " 'Did not received product',\n",
       " 'SUPER disappointed. The metal is thin, flimsy, bent and unstable.',\n",
       " \"Since I got it out of the package it didn't work at all. Couldn't even press the button because it was stuck. Returned. Very disappointed.\",\n",
       " 'Definitely not Carolina Reaper Peppers. These look like Thai chili peppers. Do not buy. Big waste of money.',\n",
       " \"Product was fine but only 2 were in the packet v 3 as advertised. I contacted the distributor they said they would send out another one which they didn't. I never heard back from Amazon either. It was very expensive for two bags!\",\n",
       " 'Does not work. Not supported by device pops up.',\n",
       " 'It is cheap - and yes it is a CHEAP product.',\n",
       " \"The FIRST time I used this product the zipper broke. It arrived 3 hours ago and I'm already sending it back. I'm very frustrated as I wasted time debating between this product and competitors. Obviously I made the wrong choice.\",\n",
       " 'Does not work as described.',\n",
       " 'The Product arrived broken. Amazon immediately put me in touch with CPO the sellers. CPO said they will not honor the Amazon product return refund policy without pictures of the item sent prior to the item being returned. Beware do not buy from this third party vendor.',\n",
       " 'FIRE HAZARD DO NOT PURCHASE. Used once as instructed wires melted and caught fire!!!',\n",
       " 'When you order a product, you expect the product to be as described. They were advertised as CAP Dumbbells. However, the product received was Golds Gym dumbbells. If I wanted Golds Gym, I would have bought these from Walmart. I have a complete set of CAP dumbbells, with the exception of my one set from Golds Gym. Is the weight correct, yes. Due they perform, yes. I just expect to get what I paid for not something else. After reading a few other reviews, I see that others have had the same issue.',\n",
       " 'I bought this product and thought it was awesome in the box but when I shot it I discovered it jammed frequently and pinches you at the top unless your very careful and after about 10 ft the pellet curves upward severely. After it fell from a barely 2 ft tall coffee table it broke and would not cock Iv also noticed after reading a lot of reviews that this is frequent',\n",
       " 'We have had this since May 2019, so only 3 months and the timer has stopped working on it and it turns itself off.',\n",
       " 'Bought it, worked for couple weeks then didn’t. Exchanged it. Worked for a month then didn’t. Bought a pack of batteries but nothing is vibrating now and dog still barks. It’s a 0% chance of it working for very long. Can’t return now.',\n",
       " 'Phone has scratches all over it after less than a month of regular using',\n",
       " 'It arrived broken. Not packaged correctly.',\n",
       " 'Wish I would of read the reviews prior to purchase. This DVD is sadly the worst DVD I have ever purchased. Either here on Amazon or other sites. It plays on my DVD player but the quality is horrible. Also, the first 15-20 minutes or so is just unwatchable. The picture is all scrambled. This is obviously a shoddy bootlegged version from a vhs tape. Amazon really needs to stop selling this!!!',\n",
       " 'Instructions are confusing and poorly written.',\n",
       " 'description incorrect, only received one book. Cheap packaging, wrapped with some sort of brown paper.',\n",
       " \"We've had nothing but problems with it doesn't function and the screen is constantly having problems will not stay on troubleshoot is it and still the screen will not come on\",\n",
       " 'broke the first time I used it.',\n",
       " \"Doesn't distribute the steam strong enough small fan but it is quiet but who cares\",\n",
       " \"Did not stick to the wall at all, a lot of it was ripped and it wasn't as full as pictured. I wish I could get my money back but the only way to find out how bad this product is was to use it. Super disappointed, I would not recommend this at all.\",\n",
       " '_’d are just cheap polyester sheets. NOT MICROFIBER! Not super soft. They’re silky soft like cheap polyester is.',\n",
       " 'Use at your own risk. My _ and I both had burning sensation and skin reactions. No history of sensitive skin.',\n",
       " 'Plugged in and did not charge only music played from one ear of earphone.TERRIBLE',\n",
       " 'Terrible product ! Came with moldy batteries AND when I replaced the batteries, nothing worked. It was a huge disappointment',\n",
       " 'This product seems worthless for me. I don’t think they work for anything. I am sorry I bought them.',\n",
       " 'The picture shows the fuel canister with the mosquito repeller attached so I assumed it would be included. However, when I opened the package I discovered there was no fuel. Since it is not included, the picture should be removed. If someone orders this and expects to use it immediately, like I did, they will be very disappointed.',\n",
       " 'Lasted one wear and then melted off when worn on the pavement. I took them off and the adhesive was all over the bottom so i took them to a cobbler instead and got them professionally done. Would not ever put these on my red bottoms again.',\n",
       " 'never got it after a week when promised',\n",
       " 'I love it It is adorable , perfect size! But my glass part has a crack, can you please replace the glass part? Thank you',\n",
       " 'Not wanting to give it any stars, I gave it 1. Sound quality stinks and that is only with the music it will listen to. It won’t connect or even recognize the Apple 11Pro it was trying to connect to, so it never worked to make phone calls even with my Bose earbuds. I’m going back to Apple products. They know what they’re doing.',\n",
       " 'I never received this item.',\n",
       " \"It wasn't what I thought it was so I sent it back , for someone that ordered the right thing the process was perfect\",\n",
       " 'It already stopped working. It no longer charges.',\n",
       " 'There is a very strong, offensive odor on the inside!!',\n",
       " 'We ordered 4 diff brands so we could compare and try them out and this one was by far the worst, once you sat down. You felt squished. I’m 5.5 and 120 lbs. My _ could barely fit.',\n",
       " 'The color is mislabeled. This is supposed to be brown/blonde but comes out almost white. Completely unusable.',\n",
       " 'Fell apart the same day. Had to connect the lighting wires myself.',\n",
       " 'First carwash and for force of the water broke the light. Poor quality would not recommend.',\n",
       " \"Love the color ... but didn't fit.\",\n",
       " 'Absolutely worthless! Adhesive does not stick!',\n",
       " 'Poorly made. Doest attract any birds. My other feeders work great.',\n",
       " 'This product is NOT Depends. It is after market. Waste of money.',\n",
       " 'Died after 90days of use, not durable as they said',\n",
       " 'Stopped working after one week. Replaced batteries several times but no luck. Should have returned it but ended up in the garbage',\n",
       " 'Product in tube was dried up and not usable',\n",
       " 'I never receive my stuff.',\n",
       " 'It doesn’t stick to my car and it’s to big',\n",
       " 'I ordered this bodysuit in 3-6 months and they sent me a 6-12 months. The label on the plastic bag says a different size of the one in the label on the bodysuit. I don’t know if I should order it again because I am afraid they would send me a completely different size.',\n",
       " \"Candy was shipped on a Friday, arrived on Tuesday, and in terrible shape...all melted and gooey. It was sent in some insulated wrapping but still did not survive the heat. Lesson learned. Don't order chocolate in summertime.\",\n",
       " \"I ordered this for Ps4 (it says on the order ps4 and everything) but received an Xbox one copy. I'm trying to figure out how to return or exchange it now.\",\n",
       " 'The comforter is super hot but washed the first time and the fabric ripped. Super cheap quality.',\n",
       " 'Not a good buy. Within 20 days of use, the filter is blinking red and has water leaking.',\n",
       " 'Only worked for two months.',\n",
       " 'Item did not fit my car properly.',\n",
       " 'I received a broken angle plate and i m very upset for the package!!!!!!',\n",
       " 'This will not help you with finding anything at all. It doesn’t offer any true guidance. Just some basic questions and you write your response. It’s just a journal nothing more. Very disappointed. Instead of wasting your money on this I would recommend The path made clear by Oprah is way more helpful. Or just get yourself a notebook and write your daily thoughts down and reflect once a week. That’s it. Save your money.',\n",
       " 'These did not work at all. The batteries neither came with a charge on them or would take a charge. Terrible product.',\n",
       " 'Too stiff, barely zips, and is very bulky',\n",
       " 'Received this today and it doesn’t fit my .40 clip very disappointing!!',\n",
       " 'The package only had 1 rectangular pan and 1 cupcake pan. Missing 2 rectangular pans.',\n",
       " 'I don’t think the design fits for the phone. It blocks the fingerprint on the side. I can’t use my fingerprint to unlock the phone with this case on.',\n",
       " 'I don’t receive my package until now I check the front desk nothing and my mail box so what up with that though?',\n",
       " 'Not working for me at all.',\n",
       " 'Put brand new batteries in it and after a couple days the light started blinking red. Went to the store bought new batteries installed those and still blinking red nothing is inside of the trap.',\n",
       " 'Wore sandles 3x and they are starting to come apart on the side. So bummed!',\n",
       " 'This did not work. Any water that came out of the spout was a sporadic spit of water. Returning.',\n",
       " 'This does not stay inflated and after the first use, it has not lit again although it has been charged',\n",
       " 'not sturdy, can definitely catch your feet.',\n",
       " 'The idea of this truck was really cool until it arrived with a small crack. My _ went to open one side and the plastic broke all the way, which has rendered the truck useless since it is sharp and dangerous. I would not recommend this product.',\n",
       " 'It worked only for a little over a month and died. Fortunately, we bought protection plan and exchanged it for free. Hoping the next one is not defective.',\n",
       " 'Better off buying the kits',\n",
       " 'I opened a bottle of this smart water and took a large drink, it had a very strong disgusting taste (swamp water). I looked into the bottle and found many small particles were floating in the water... a few brown specs and some translucent white. I am completely freaked out and have contacted Coca-Cola, the product manufacture.',\n",
       " 'It was easy to put together and I was excited for this night stand but the drawers I believed are defective. The top part is flush; however they don’t close all the way on the bottom.',\n",
       " 'My _ uses this for travel/home and it quit charging after a couple months. Sadly, I bought two.',\n",
       " 'I bought this because I teach Geometry and the one that the school gives us is not accurate enough and opens easily and I thought This would be better. I was Wrong. The lead constantly pushes through anytime I try And use it. It is very frustrating and the compass is useless.',\n",
       " 'This is a huge health hazard to your baby. We checked the battery after a couple weeks of use and saw that water went into the compartment where the batteries go. The batteries themselves had rotted and a black liquid was coming out of them. Looking at the design, it appears that theres no way the battery enclosure could be waterproof meaning not only did water go into the compartment during bathtime, some of that toxic material came out as well. Please do not buy this product. I’m shocked that it was allowed to go to market despite such an obvious flaw.',\n",
       " 'I immediately returned it. You use to have it with a lemon scent which was very pleasant.',\n",
       " 'not received but shows delivered',\n",
       " \"Didn't work at all. Our brand new Xbox One X did nothing with the Kinect One.\",\n",
       " 'This product arrived late and no return policy.',\n",
       " 'received 2 sets only have 5 each screwdriver per set !!!!!!??????',\n",
       " 'Horrible after taste. I can imagine \"Pine Sol Cleaning liquid\" tasting like this. Very strange. It\\'s a NO for me.',\n",
       " 'I love the idea of this gate and the way it looks but I’ve now had two and they both broke, one broken outta the box and the other broke pretty immediately after setting it up. Super disappointed especially for the cost!!',\n",
       " 'Very poor product ! It does not stick to the page ..we need to use tape if we want it to adhere',\n",
       " 'The motor burned out today. I have used this grinder very little over the time I have had it.',\n",
       " 'You will have Lopsided cheeks if you don’t adjust the pads each time you pull them up after using the bathroom. The lace rises and buckles causing bulges through your pants.',\n",
       " '1/3 of the bags came broken',\n",
       " 'I try to turn it on, it won’t work so , it returned.',\n",
       " 'I got these things in October and already stop working! I am hoping they will replace them then, I will update my review.',\n",
       " 'Not helpful for me. No results',\n",
       " 'Some of the balloons were sealed shut and would not blow up.',\n",
       " 'I got my package today and it was used it came with dog hair all over it! I am really mad because my house is allergic to dogs!',\n",
       " 'Order hose for home use, installed hose on my hose reel. 3.5 months later hose has a leak close to end attached to hose reel. While hose did not kink it was hard to move and heavy. Hose has a 12 year warranty. Tried to contact company but only international numbers available, page ask for email. Reluctant to send email to unknown company with only overseas address. I do not recommend using this brand of hose. Contacted by Worth Garden Sept. 6, 2018 with emails stating replacement hose would be sent. No word emailed Sept. 13, 2018 about no replacement Hose, answered they were working on it. Today Sept. 28, 2018 still no replacement Hose or email. Appears Hose is as good as Warranty. Would not recommend buying from Worth Garden.',\n",
       " 'We never could get this bulb camera to work. I’ve had 3 people try this bulb at different locations and it will not connect to the internet and will not set up.',\n",
       " \"Sadly, really doesn't seem to work worth a darn. Maybe is the particular kind of dust where I am but It just makes patterns in the dust. Doesn't seem to capture it or lift it off.If I can still return it I will.\",\n",
       " \"They don't adjust. There is a rough, plastic piece that either rubs on the ear or presses in on the head. I only wore them for 5 min 2x a day to walk dog and my head is KILLING ME! DON'T BUY! Will return mine!\",\n",
       " \"So after finally sitting down to print some documents I found that the cartridge has bands in it. tried walking through all the instructions on cleaning it however if a state that if it doesn't work then more than likely that cartridge needs to be replaced. So it was a waste of $100 on this ink. I WONT be buying from this seller ever again\",\n",
       " \"This wasn't indicated anywhere in the description before I purchased -- these are designed to prevent blade replacement! That makes these far and away the most expensive scalpel blades I've ever bought.\",\n",
       " 'The book was hard to keep up with as it jumped around a lot. Also the title doesn’t fit the story. The author indicated several people were infected by this alien, however left out may details on when or how it happened. I was confused at times and had to go back and re read a lot to make sure I didn’t miss anything.',\n",
       " \"Soooo disappointed. The images look as though they are a copy of a copy of a copy of a copy of a copy to the point where they are so distorted and there is nothing to even color! You'd be better off making your own!\",\n",
       " \"my expectations were low for a cheap scale. they were not met, scale doesnt work. popped the cover off the back to put a battery in and the wires were cut and damaged. wouldn't even turn on. sending it back. product is flimsy and cheap, spend 20 extra bucks on a better brand or scale.\",\n",
       " 'This product came damaged and package arrived open. Very frustrating that this product is unable to be returned while is it still under the 30 day amazon return policy. Very unsatisfied with this purchase.',\n",
       " 'Cannot rate the product because the recipient never got it. The tracking said the order was delivered but it never arrived.',\n",
       " 'Horrible!!! I ordered 12 sheets received 3. I do not recommend anyone to buy from this seller! It makes you choose a star I would say 0 stars and I will not buy again',\n",
       " 'I never received this order,I need a refund or the product',\n",
       " 'Spend a few dollars more and get one that works.',\n",
       " 'I received two of these and both have been defective, leaking butane liquid when attempting to refill butane lighters.',\n",
       " 'Was not delivered!!!',\n",
       " \"Didn't work. Just buy the actual apple ones\",\n",
       " 'My printer will not recognize the cartridges. I need to send them back.',\n",
       " 'It deflated after 5 uses in two months. I asked for a replacement, no one replied.',\n",
       " 'Huge disappointment box was all messed up and toy was broken',\n",
       " 'I didn’t like that it was made out of plastic and that you had to put it together yourself.',\n",
       " 'Amazon never deliver the items. Horrible customer service. Considering new purchase choices.',\n",
       " 'both mugs arrived broken',\n",
       " \"Worst fucking item I ever bought on Amazon I had a headache for 2 days on this bullshit I thought I had to go to the emergency room please don't but real costumer\",\n",
       " 'Corner of pop socket is faded I would like a new one!',\n",
       " \"The tips fell off multiple times when I was walking around in the city. They don't stay on, unfortunately. Disappointed with the product.\",\n",
       " \"Says it's charging but actually drains battery. Do not buy not worth the money.\",\n",
       " \"I can buy this mustard at a gourmet store near me for almost half the price. Won't do this again!\",\n",
       " 'No longer connects to wifi and supplier no help',\n",
       " 'Broke in 2 seconds no good',\n",
       " \"haven't used it yet i got it for my _ to use\",\n",
       " 'Just purchased and wanted these sheets. Put them on a pillow to discover a giant hole in the first pillow case I put on. So disappointed.',\n",
       " 'this item and the replacement were both 6 weeks past the expiration date',\n",
       " 'Had to return it. Didn’t work with my Rx. Tested it once upon arrival, seemed fine. The next day it was leaking.',\n",
       " 'Doesn’t work at all! Took family to the camping trip and used this product hoping to avoid mosquito bites. Instead getting bitten all over.',\n",
       " 'I’m extremely disappointed with this purchase. The amount of pilling on these blankets is unreal. I have blue fuzz all over my house. I’m surprised there is any blanket left. I followed the washing instructions and both times I have washed them they have come out terribly. I would not buy.',\n",
       " 'The white is the only one that doesn’t break off so easily . They’re all trash though.',\n",
       " 'One half stopped working after month of use']"
      ]
     },
     "execution_count": 54,
     "metadata": {},
     "output_type": "execute_result"
    }
   ],
   "source": [
    "scrubbed_data['test'][:200][\"review_body\"]"
   ]
  },
  {
   "cell_type": "code",
   "execution_count": null,
   "id": "5d598294",
   "metadata": {},
   "outputs": [],
   "source": []
  }
 ],
 "metadata": {
  "kernelspec": {
   "display_name": "multi_sent",
   "language": "python",
   "name": "mulit_sent"
  },
  "language_info": {
   "codemirror_mode": {
    "name": "ipython",
    "version": 3
   },
   "file_extension": ".py",
   "mimetype": "text/x-python",
   "name": "python",
   "nbconvert_exporter": "python",
   "pygments_lexer": "ipython3",
   "version": "3.9.6"
  }
 },
 "nbformat": 4,
 "nbformat_minor": 5
}
